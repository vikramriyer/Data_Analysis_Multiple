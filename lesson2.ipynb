{
 "cells": [
  {
   "cell_type": "code",
   "execution_count": 1,
   "metadata": {
    "collapsed": true
   },
   "outputs": [],
   "source": [
    "import sys"
   ]
  },
  {
   "cell_type": "code",
   "execution_count": 2,
   "metadata": {},
   "outputs": [
    {
     "name": "stdout",
     "output_type": "stream",
     "text": [
      "['', '/home/raavan/anaconda3/lib/python36.zip', '/home/raavan/anaconda3/lib/python3.6', '/home/raavan/anaconda3/lib/python3.6/lib-dynload', '/home/raavan/anaconda3/lib/python3.6/site-packages', '/home/raavan/anaconda3/lib/python3.6/site-packages/Sphinx-1.5.6-py3.6.egg', '/home/raavan/anaconda3/lib/python3.6/site-packages/setuptools-27.2.0-py3.6.egg', '/home/raavan/anaconda3/lib/python3.6/site-packages/IPython/extensions', '/home/raavan/.ipython']\n"
     ]
    }
   ],
   "source": [
    "print(sys.path)"
   ]
  },
  {
   "cell_type": "code",
   "execution_count": 3,
   "metadata": {
    "collapsed": true
   },
   "outputs": [],
   "source": [
    "sys.path.insert(0, '/data/fastai/')"
   ]
  },
  {
   "cell_type": "code",
   "execution_count": 4,
   "metadata": {},
   "outputs": [
    {
     "name": "stdout",
     "output_type": "stream",
     "text": [
      "['/data/fastai/', '', '/home/raavan/anaconda3/lib/python36.zip', '/home/raavan/anaconda3/lib/python3.6', '/home/raavan/anaconda3/lib/python3.6/lib-dynload', '/home/raavan/anaconda3/lib/python3.6/site-packages', '/home/raavan/anaconda3/lib/python3.6/site-packages/Sphinx-1.5.6-py3.6.egg', '/home/raavan/anaconda3/lib/python3.6/site-packages/setuptools-27.2.0-py3.6.egg', '/home/raavan/anaconda3/lib/python3.6/site-packages/IPython/extensions', '/home/raavan/.ipython']\n"
     ]
    }
   ],
   "source": [
    "print(sys.path)"
   ]
  },
  {
   "cell_type": "code",
   "execution_count": 9,
   "metadata": {},
   "outputs": [],
   "source": [
    "from fastai.torch_imports import *\n",
    "from fastai.imports import *\n",
    "from fastai.io import *"
   ]
  },
  {
   "cell_type": "code",
   "execution_count": 14,
   "metadata": {
    "collapsed": true
   },
   "outputs": [],
   "source": [
    "URL='http://deeplearning.net/data/mnist/'\n",
    "FILENAME='mnist.pkl.gz'\n",
    "path = './data/'\n",
    "import os\n",
    "os.makedirs(path, exist_ok=True)\n",
    "\n",
    "def load_mnist(filename):\n",
    "    return pickle.load(gzip.open(filename, 'rb'), encoding='latin-1')"
   ]
  },
  {
   "cell_type": "code",
   "execution_count": 15,
   "metadata": {},
   "outputs": [
    {
     "name": "stderr",
     "output_type": "stream",
     "text": [
      "mnist.pkl.gz: 16.2MB [01:07, 241KB/s]                               \n"
     ]
    }
   ],
   "source": [
    "get_data(URL+FILENAME, path+FILENAME)"
   ]
  },
  {
   "cell_type": "code",
   "execution_count": 16,
   "metadata": {
    "collapsed": true
   },
   "outputs": [],
   "source": [
    "((x, y), (x_valid, y_valid), _) = load_mnist(path+FILENAME)"
   ]
  },
  {
   "cell_type": "code",
   "execution_count": null,
   "metadata": {
    "collapsed": true
   },
   "outputs": [],
   "source": []
  }
 ],
 "metadata": {
  "kernelspec": {
   "display_name": "Python 3",
   "language": "python",
   "name": "python3"
  },
  "language_info": {
   "codemirror_mode": {
    "name": "ipython",
    "version": 3
   },
   "file_extension": ".py",
   "mimetype": "text/x-python",
   "name": "python",
   "nbconvert_exporter": "python",
   "pygments_lexer": "ipython3",
   "version": "3.6.1"
  }
 },
 "nbformat": 4,
 "nbformat_minor": 2
}
